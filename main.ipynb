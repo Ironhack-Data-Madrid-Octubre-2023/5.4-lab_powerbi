{
 "cells": [
  {
   "cell_type": "markdown",
   "id": "eee817a2",
   "metadata": {},
   "source": [
    "URL a mi proyecto de Tableau (Análisis interno de la empresa):\n",
    "\n",
    "https://public.tableau.com/views/analisis_interno_empresa/Anlisisinternodelaempresa?:language=es-ES&publish=yes&:display_count=n&:origin=viz_share_link"
   ]
  }
 ],
 "metadata": {
  "kernelspec": {
   "display_name": "clase",
   "language": "python",
   "name": "clase"
  },
  "language_info": {
   "codemirror_mode": {
    "name": "ipython",
    "version": 3
   },
   "file_extension": ".py",
   "mimetype": "text/x-python",
   "name": "python",
   "nbconvert_exporter": "python",
   "pygments_lexer": "ipython3",
   "version": "3.10.13"
  }
 },
 "nbformat": 4,
 "nbformat_minor": 5
}
